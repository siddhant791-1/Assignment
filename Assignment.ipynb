{
  "nbformat": 4,
  "nbformat_minor": 0,
  "metadata": {
    "colab": {
      "provenance": []
    },
    "kernelspec": {
      "name": "python3",
      "display_name": "Python 3"
    },
    "language_info": {
      "name": "python"
    }
  },
  "cells": [
    {
      "cell_type": "markdown",
      "source": [
        "## 1.Write a code to reverse a string"
      ],
      "metadata": {
        "id": "bTbBMNAeYfYL"
      }
    },
    {
      "cell_type": "code",
      "execution_count": null,
      "metadata": {
        "colab": {
          "base_uri": "https://localhost:8080/",
          "height": 36
        },
        "id": "QoLEeJ04YeAb",
        "outputId": "622bd6ca-18c1-425a-887f-9f721ddb3595"
      },
      "outputs": [
        {
          "output_type": "execute_result",
          "data": {
            "text/plain": [
              "'sllikswp'"
            ],
            "application/vnd.google.colaboratory.intrinsic+json": {
              "type": "string"
            }
          },
          "metadata": {},
          "execution_count": 2
        }
      ],
      "source": [
        "def rev_str(s):\n",
        "  return s[::-1]\n",
        "rev_str('pwskills')"
      ]
    },
    {
      "cell_type": "markdown",
      "source": [
        " ## 2.Write a code to count the number of vowels in a string"
      ],
      "metadata": {
        "id": "1AhQp1hRZeHS"
      }
    },
    {
      "cell_type": "code",
      "source": [
        "def vowels(s):\n",
        "  for i in s:\n",
        "    if i in 'aeiouAEIOU':\n",
        "      return s.count(i)\n",
        "vowels('pwskills')"
      ],
      "metadata": {
        "colab": {
          "base_uri": "https://localhost:8080/"
        },
        "id": "XXWr_lluZnd_",
        "outputId": "fdf1f69b-b79a-4b35-8e43-63698108d96a"
      },
      "execution_count": null,
      "outputs": [
        {
          "output_type": "execute_result",
          "data": {
            "text/plain": [
              "1"
            ]
          },
          "metadata": {},
          "execution_count": 3
        }
      ]
    },
    {
      "cell_type": "markdown",
      "source": [
        "## 3. Write a code to check if a given string is a palindrome or not"
      ],
      "metadata": {
        "id": "muCJBL04eMgi"
      }
    },
    {
      "cell_type": "code",
      "source": [
        "def is_palindrome(s):\n",
        "  s = s.lower()\n",
        "  if s == s[::-1]:\n",
        "    return 'it is a palindrome'\n",
        "  else:\n",
        "    return 'not a palindrome'\n",
        "is_palindrome('Pwskll')\n"
      ],
      "metadata": {
        "colab": {
          "base_uri": "https://localhost:8080/",
          "height": 36
        },
        "id": "sco0wVGYeYC_",
        "outputId": "53034ac7-fe97-4d8e-864e-b77c1581a94a"
      },
      "execution_count": null,
      "outputs": [
        {
          "output_type": "execute_result",
          "data": {
            "text/plain": [
              "'not a palindrome'"
            ],
            "application/vnd.google.colaboratory.intrinsic+json": {
              "type": "string"
            }
          },
          "metadata": {},
          "execution_count": 4
        }
      ]
    },
    {
      "cell_type": "markdown",
      "source": [
        "## 4.Write a code to check if two given strings are anagrams of each other"
      ],
      "metadata": {
        "id": "8IWuRqMPfXUb"
      }
    },
    {
      "cell_type": "code",
      "source": [
        "def is_anagram(s1,s2):\n",
        "  s1 = s1.lower()\n",
        "  s2 = s2.lower()\n",
        "  if sorted(s1) == sorted(s2):\n",
        "    return 'it is an anagram'\n",
        "  else:\n",
        "    return 'not an anagram'\n",
        "is_anagram('listen','silent')\n"
      ],
      "metadata": {
        "id": "S3NJcyLPffCp",
        "colab": {
          "base_uri": "https://localhost:8080/",
          "height": 36
        },
        "outputId": "94048c41-2c16-4868-9632-f464da182ece"
      },
      "execution_count": null,
      "outputs": [
        {
          "output_type": "execute_result",
          "data": {
            "text/plain": [
              "'it is an anagram'"
            ],
            "application/vnd.google.colaboratory.intrinsic+json": {
              "type": "string"
            }
          },
          "metadata": {},
          "execution_count": 5
        }
      ]
    },
    {
      "cell_type": "markdown",
      "source": [
        "## 5. Write a code to find all occurrences of a given substring within another string"
      ],
      "metadata": {
        "id": "j_ciUFcKkLmE"
      }
    },
    {
      "cell_type": "code",
      "source": [
        "def all_occurrences(text , substring):\n",
        "  indices = []\n",
        "  start = 0\n",
        "  while True:\n",
        "    index = text.find(substring,start)\n",
        "    if index == -1:\n",
        "      break\n",
        "    indices.append(index)\n",
        "    start = index +1\n",
        "  return indices\n",
        "all_occurrences('pwskills','ls')"
      ],
      "metadata": {
        "colab": {
          "base_uri": "https://localhost:8080/"
        },
        "id": "4JkNLEWlkQqL",
        "outputId": "588d85b3-5682-4f57-ae16-621323e087de"
      },
      "execution_count": null,
      "outputs": [
        {
          "output_type": "execute_result",
          "data": {
            "text/plain": [
              "[6]"
            ]
          },
          "metadata": {},
          "execution_count": 8
        }
      ]
    },
    {
      "cell_type": "markdown",
      "source": [
        "## 6. Write a code to perform basic string compression using the counts of repeated characters"
      ],
      "metadata": {
        "id": "W3burYhCmPKM"
      }
    },
    {
      "cell_type": "code",
      "source": [
        "def compressed_string(s):\n",
        "  if not s:\n",
        "    return \"\"\n",
        "  compresed = []\n",
        "  count = 1\n",
        "  for i in range (1,len(s)):\n",
        "    if s[i] == s[i-1]:\n",
        "      count +=1\n",
        "    else:\n",
        "      compresed.append(s[i-1] + str(count))\n",
        "      count = 1\n",
        "  compresed.append(s[-1] + str(count))\n",
        "  return ''.join(compresed)\n",
        "compressed_string('aabcccccaaa')\n"
      ],
      "metadata": {
        "colab": {
          "base_uri": "https://localhost:8080/",
          "height": 36
        },
        "id": "tNXHDDYfmfHG",
        "outputId": "20c8aabb-7cc3-4924-b65a-8ff16c828851"
      },
      "execution_count": null,
      "outputs": [
        {
          "output_type": "execute_result",
          "data": {
            "text/plain": [
              "'a2b1c5a3'"
            ],
            "application/vnd.google.colaboratory.intrinsic+json": {
              "type": "string"
            }
          },
          "metadata": {},
          "execution_count": 9
        }
      ]
    },
    {
      "cell_type": "markdown",
      "source": [
        "## 7.Write a code to determine if a string has all unique characters"
      ],
      "metadata": {
        "id": "bXwdndPVouE3"
      }
    },
    {
      "cell_type": "code",
      "source": [
        "def unique_char(s):\n",
        "  seen = set()\n",
        "  for char in s:\n",
        "    if char in seen:\n",
        "      return False\n",
        "    seen.add(char)\n",
        "  return True\n",
        "unique_char('abcd')"
      ],
      "metadata": {
        "colab": {
          "base_uri": "https://localhost:8080/"
        },
        "id": "DEvZh2LBowuE",
        "outputId": "df31534e-68f1-4a50-a0f8-d17e7d06c8b1"
      },
      "execution_count": null,
      "outputs": [
        {
          "output_type": "execute_result",
          "data": {
            "text/plain": [
              "True"
            ]
          },
          "metadata": {},
          "execution_count": 11
        }
      ]
    },
    {
      "cell_type": "markdown",
      "source": [
        "## 8. Write a code to convert a given string to uppercase or lowercase"
      ],
      "metadata": {
        "id": "envM9BVAsY8K"
      }
    },
    {
      "cell_type": "code",
      "source": [
        "def lower_case(s):\n",
        "  return s.lower()\n",
        "lower_case('SID')"
      ],
      "metadata": {
        "colab": {
          "base_uri": "https://localhost:8080/",
          "height": 36
        },
        "id": "bYhcQCrBsrKS",
        "outputId": "d937f96e-cea6-4961-bdf7-d26e6ea4cb89"
      },
      "execution_count": null,
      "outputs": [
        {
          "output_type": "execute_result",
          "data": {
            "text/plain": [
              "'sid'"
            ],
            "application/vnd.google.colaboratory.intrinsic+json": {
              "type": "string"
            }
          },
          "metadata": {},
          "execution_count": 2
        }
      ]
    },
    {
      "cell_type": "markdown",
      "source": [
        "## 9. Write a code to count the number of words in a string"
      ],
      "metadata": {
        "id": "YMqbMhxSs_eM"
      }
    },
    {
      "cell_type": "code",
      "source": [
        "w = 'Sid'\n",
        "count_len = lambda w : len(w.split())\n",
        "count_len(w)"
      ],
      "metadata": {
        "colab": {
          "base_uri": "https://localhost:8080/"
        },
        "id": "6vgB6KGltBe5",
        "outputId": "98ddd6a2-b798-4046-e50c-49a8ceee4b5a"
      },
      "execution_count": null,
      "outputs": [
        {
          "output_type": "execute_result",
          "data": {
            "text/plain": [
              "3"
            ]
          },
          "metadata": {},
          "execution_count": 6
        }
      ]
    },
    {
      "cell_type": "markdown",
      "source": [
        "## 10.Write a code to concatenate two strings without using the + operator"
      ],
      "metadata": {
        "id": "AjMcupG9uLlz"
      }
    },
    {
      "cell_type": "code",
      "source": [
        "from typing import Concatenate\n",
        "s1 = 'Hello'\n",
        "s2 = 'World'\n",
        "con_word = ' '.join([s1, s2])\n",
        "con_word"
      ],
      "metadata": {
        "colab": {
          "base_uri": "https://localhost:8080/",
          "height": 36
        },
        "id": "rgWX8RHouRca",
        "outputId": "00c32391-0612-412f-deec-0bfe7c9979ae"
      },
      "execution_count": null,
      "outputs": [
        {
          "output_type": "execute_result",
          "data": {
            "text/plain": [
              "'Hello World'"
            ],
            "application/vnd.google.colaboratory.intrinsic+json": {
              "type": "string"
            }
          },
          "metadata": {},
          "execution_count": 10
        }
      ]
    },
    {
      "cell_type": "markdown",
      "source": [
        "## 11. Write a code to remove all occurrences of a specific element from a list"
      ],
      "metadata": {
        "id": "ORr3CjZ4wBeN"
      }
    },
    {
      "cell_type": "code",
      "source": [
        "def remove_ele(list,traget):\n",
        "  return[x for x in list if x != traget]\n",
        "l = [1,2,3,4,5,67,1000]\n",
        "traget = 1000\n",
        "remove_ele(l,traget)"
      ],
      "metadata": {
        "colab": {
          "base_uri": "https://localhost:8080/"
        },
        "id": "pLr1zfTEwIXA",
        "outputId": "04fe0d26-087e-464e-e52e-d4d49cd0ce17"
      },
      "execution_count": null,
      "outputs": [
        {
          "output_type": "execute_result",
          "data": {
            "text/plain": [
              "[1, 2, 3, 4, 5, 67]"
            ]
          },
          "metadata": {},
          "execution_count": 11
        }
      ]
    },
    {
      "cell_type": "markdown",
      "source": [
        "## 12. Implement a code to find the second largest number in a given list of integers"
      ],
      "metadata": {
        "id": "KnI2aVxSxStx"
      }
    },
    {
      "cell_type": "code",
      "source": [
        "def second_largest(num):\n",
        "  unique_num = list(set(num))\n",
        "  if len(unique_num) < 2:\n",
        "    return None\n",
        "  unique_num.sort(reverse=True)\n",
        "  return unique_num[1]\n",
        "l = [11,66,7,3,3,9,22,33,5,6,5,8]\n",
        "second_largest(l)\n"
      ],
      "metadata": {
        "colab": {
          "base_uri": "https://localhost:8080/"
        },
        "id": "rvmAAfGhxX-E",
        "outputId": "7400beb9-6f3b-44a7-b077-6b7c0abafa05"
      },
      "execution_count": null,
      "outputs": [
        {
          "output_type": "execute_result",
          "data": {
            "text/plain": [
              "33"
            ]
          },
          "metadata": {},
          "execution_count": 13
        }
      ]
    },
    {
      "cell_type": "markdown",
      "source": [
        "## 13.Create a code to count the occurrences of each element in a list and return a dictionary with elements as\n",
        "keys and their counts as values"
      ],
      "metadata": {
        "id": "C6mUdDp7zyuR"
      }
    },
    {
      "cell_type": "code",
      "source": [
        "def count_occurrences(l):\n",
        "  count_dict={}\n",
        "  for item in l:\n",
        "    if item in count_dict:\n",
        "      count_dict[item]+=1\n",
        "    else:\n",
        "      count_dict[item]=1\n",
        "  return count_dict\n",
        "lst =[1,2,3,4,5,5,54,3,2,1,1,2,3,45,6,6,7,7,87,6,54,3,22,1]\n",
        "result = count_occurrences(lst)\n",
        "result"
      ],
      "metadata": {
        "colab": {
          "base_uri": "https://localhost:8080/"
        },
        "id": "RfSBmDOn0EJ5",
        "outputId": "91cc253c-7184-414f-8fc3-eb3fd7f570a6"
      },
      "execution_count": null,
      "outputs": [
        {
          "output_type": "execute_result",
          "data": {
            "text/plain": [
              "{1: 4, 2: 3, 3: 4, 4: 1, 5: 2, 54: 2, 45: 1, 6: 3, 7: 2, 87: 1, 22: 1}"
            ]
          },
          "metadata": {},
          "execution_count": 19
        }
      ]
    },
    {
      "cell_type": "markdown",
      "source": [
        "## 14. Write a code to reverse a list in-place without using any built-in reverse functions"
      ],
      "metadata": {
        "id": "CESG-ReH22qL"
      }
    },
    {
      "cell_type": "code",
      "source": [
        "def reverse_list(lst):\n",
        "  left = 0\n",
        "  right = len(lst) - 1\n",
        "  while left < right:\n",
        "    lst[left],lst[right] = lst[right],lst[left]\n",
        "    left+=1\n",
        "    right-=1\n",
        "l = [1,2,3,4,5]\n",
        "reverse_list(l)\n",
        "l"
      ],
      "metadata": {
        "colab": {
          "base_uri": "https://localhost:8080/"
        },
        "id": "HIfTrRBu297g",
        "outputId": "e15292c8-6a13-4a7f-de61-60d1b74b732a"
      },
      "execution_count": null,
      "outputs": [
        {
          "output_type": "execute_result",
          "data": {
            "text/plain": [
              "[5, 4, 3, 2, 1]"
            ]
          },
          "metadata": {},
          "execution_count": 21
        }
      ]
    },
    {
      "cell_type": "markdown",
      "source": [
        "## 15. Implement a code to find and remove duplicates from a list while preserving the original order of\n",
        "elements"
      ],
      "metadata": {
        "id": "ZaOd1_6M78GD"
      }
    },
    {
      "cell_type": "code",
      "source": [
        "def remove_duplicate(lst):\n",
        "  seen = set()\n",
        "  result = []\n",
        "  for item in lst:\n",
        "    if item not in seen:\n",
        "      seen.add(item)\n",
        "      result.append(item)\n",
        "  return result\n",
        "l = [1,2,3,4,5,5,4,6,22,1,2,1]\n",
        "remove_duplicate(l)"
      ],
      "metadata": {
        "colab": {
          "base_uri": "https://localhost:8080/"
        },
        "id": "eoqvQX3C8A2e",
        "outputId": "0f62e4f2-d257-4b2a-a8f2-defe2a298449"
      },
      "execution_count": null,
      "outputs": [
        {
          "output_type": "execute_result",
          "data": {
            "text/plain": [
              "[1, 2, 3, 4, 5, 6, 22]"
            ]
          },
          "metadata": {},
          "execution_count": 22
        }
      ]
    },
    {
      "cell_type": "markdown",
      "source": [
        "### 16. Create a code to check if a given list is sorted (either in ascending or descending order) or not"
      ],
      "metadata": {
        "id": "kOS8MKHaojxJ"
      }
    },
    {
      "cell_type": "code",
      "source": [
        "def sorted_1(lst):\n",
        "           if lst == sorted(lst):\n",
        "             return 'List is sorted in ascending order'\n",
        "           elif lst == sorted(lst,reverse=True):\n",
        "             return 'List is soreted in descending order'\n",
        "           else:\n",
        "             return 'List is not sorted'\n",
        "l = [1,2,3,4,5]\n",
        "sorted_1(l)"
      ],
      "metadata": {
        "colab": {
          "base_uri": "https://localhost:8080/",
          "height": 371
        },
        "id": "DX8kHThhopRe",
        "outputId": "7fbe54f1-c8da-4906-86fc-0d71d338408e"
      },
      "execution_count": null,
      "outputs": [
        {
          "output_type": "error",
          "ename": "RecursionError",
          "evalue": "maximum recursion depth exceeded",
          "traceback": [
            "\u001b[0;31m---------------------------------------------------------------------------\u001b[0m",
            "\u001b[0;31mRecursionError\u001b[0m                            Traceback (most recent call last)",
            "\u001b[0;32m/tmp/ipython-input-252817808.py\u001b[0m in \u001b[0;36m<cell line: 0>\u001b[0;34m()\u001b[0m\n\u001b[1;32m      7\u001b[0m              \u001b[0;32mreturn\u001b[0m \u001b[0;34m'List is not sorted'\u001b[0m\u001b[0;34m\u001b[0m\u001b[0;34m\u001b[0m\u001b[0m\n\u001b[1;32m      8\u001b[0m \u001b[0ml\u001b[0m \u001b[0;34m=\u001b[0m \u001b[0;34m[\u001b[0m\u001b[0;36m1\u001b[0m\u001b[0;34m,\u001b[0m\u001b[0;36m2\u001b[0m\u001b[0;34m,\u001b[0m\u001b[0;36m3\u001b[0m\u001b[0;34m,\u001b[0m\u001b[0;36m4\u001b[0m\u001b[0;34m,\u001b[0m\u001b[0;36m5\u001b[0m\u001b[0;34m]\u001b[0m\u001b[0;34m\u001b[0m\u001b[0;34m\u001b[0m\u001b[0m\n\u001b[0;32m----> 9\u001b[0;31m \u001b[0msorted_1\u001b[0m\u001b[0;34m(\u001b[0m\u001b[0ml\u001b[0m\u001b[0;34m)\u001b[0m\u001b[0;34m\u001b[0m\u001b[0;34m\u001b[0m\u001b[0m\n\u001b[0m",
            "\u001b[0;32m/tmp/ipython-input-252817808.py\u001b[0m in \u001b[0;36msorted_1\u001b[0;34m(lst)\u001b[0m\n\u001b[1;32m      1\u001b[0m \u001b[0;32mdef\u001b[0m \u001b[0msorted_1\u001b[0m\u001b[0;34m(\u001b[0m\u001b[0mlst\u001b[0m\u001b[0;34m)\u001b[0m\u001b[0;34m:\u001b[0m\u001b[0;34m\u001b[0m\u001b[0;34m\u001b[0m\u001b[0m\n\u001b[0;32m----> 2\u001b[0;31m            \u001b[0;32mif\u001b[0m \u001b[0mlst\u001b[0m \u001b[0;34m==\u001b[0m \u001b[0msorted\u001b[0m\u001b[0;34m(\u001b[0m\u001b[0mlst\u001b[0m\u001b[0;34m)\u001b[0m\u001b[0;34m:\u001b[0m\u001b[0;34m\u001b[0m\u001b[0;34m\u001b[0m\u001b[0m\n\u001b[0m\u001b[1;32m      3\u001b[0m              \u001b[0;32mreturn\u001b[0m \u001b[0;34m'List is soreted in ascending order'\u001b[0m\u001b[0;34m\u001b[0m\u001b[0;34m\u001b[0m\u001b[0m\n\u001b[1;32m      4\u001b[0m            \u001b[0;32melif\u001b[0m \u001b[0mlst\u001b[0m \u001b[0;34m==\u001b[0m \u001b[0msorted\u001b[0m\u001b[0;34m(\u001b[0m\u001b[0mlst\u001b[0m\u001b[0;34m,\u001b[0m\u001b[0mreverse\u001b[0m\u001b[0;34m=\u001b[0m\u001b[0;32mTrue\u001b[0m\u001b[0;34m)\u001b[0m\u001b[0;34m:\u001b[0m\u001b[0;34m\u001b[0m\u001b[0;34m\u001b[0m\u001b[0m\n\u001b[1;32m      5\u001b[0m              \u001b[0;32mreturn\u001b[0m \u001b[0;34m'List is soreted in descending order'\u001b[0m\u001b[0;34m\u001b[0m\u001b[0;34m\u001b[0m\u001b[0m\n",
            "\u001b[0;32m/tmp/ipython-input-570713488.py\u001b[0m in \u001b[0;36msorted\u001b[0;34m(lst)\u001b[0m\n\u001b[1;32m      1\u001b[0m \u001b[0;32mdef\u001b[0m \u001b[0msorted\u001b[0m\u001b[0;34m(\u001b[0m\u001b[0mlst\u001b[0m\u001b[0;34m)\u001b[0m\u001b[0;34m:\u001b[0m\u001b[0;34m\u001b[0m\u001b[0;34m\u001b[0m\u001b[0m\n\u001b[0;32m----> 2\u001b[0;31m            \u001b[0;32mif\u001b[0m \u001b[0mlst\u001b[0m \u001b[0;34m==\u001b[0m \u001b[0msorted\u001b[0m\u001b[0;34m(\u001b[0m\u001b[0mlst\u001b[0m\u001b[0;34m)\u001b[0m\u001b[0;34m:\u001b[0m\u001b[0;34m\u001b[0m\u001b[0;34m\u001b[0m\u001b[0m\n\u001b[0m\u001b[1;32m      3\u001b[0m              \u001b[0;32mreturn\u001b[0m \u001b[0;34m'List is soreted in ascending order'\u001b[0m\u001b[0;34m\u001b[0m\u001b[0;34m\u001b[0m\u001b[0m\n\u001b[1;32m      4\u001b[0m            \u001b[0;32melif\u001b[0m \u001b[0mlst\u001b[0m \u001b[0;34m==\u001b[0m \u001b[0msorted\u001b[0m\u001b[0;34m(\u001b[0m\u001b[0mlst\u001b[0m\u001b[0;34m,\u001b[0m\u001b[0mreverse\u001b[0m\u001b[0;34m=\u001b[0m\u001b[0;32mTrue\u001b[0m\u001b[0;34m)\u001b[0m\u001b[0;34m:\u001b[0m\u001b[0;34m\u001b[0m\u001b[0;34m\u001b[0m\u001b[0m\n\u001b[1;32m      5\u001b[0m              \u001b[0;32mreturn\u001b[0m \u001b[0;34m'List is soreted in descending order'\u001b[0m\u001b[0;34m\u001b[0m\u001b[0;34m\u001b[0m\u001b[0m\n",
            "... last 1 frames repeated, from the frame below ...\n",
            "\u001b[0;32m/tmp/ipython-input-570713488.py\u001b[0m in \u001b[0;36msorted\u001b[0;34m(lst)\u001b[0m\n\u001b[1;32m      1\u001b[0m \u001b[0;32mdef\u001b[0m \u001b[0msorted\u001b[0m\u001b[0;34m(\u001b[0m\u001b[0mlst\u001b[0m\u001b[0;34m)\u001b[0m\u001b[0;34m:\u001b[0m\u001b[0;34m\u001b[0m\u001b[0;34m\u001b[0m\u001b[0m\n\u001b[0;32m----> 2\u001b[0;31m            \u001b[0;32mif\u001b[0m \u001b[0mlst\u001b[0m \u001b[0;34m==\u001b[0m \u001b[0msorted\u001b[0m\u001b[0;34m(\u001b[0m\u001b[0mlst\u001b[0m\u001b[0;34m)\u001b[0m\u001b[0;34m:\u001b[0m\u001b[0;34m\u001b[0m\u001b[0;34m\u001b[0m\u001b[0m\n\u001b[0m\u001b[1;32m      3\u001b[0m              \u001b[0;32mreturn\u001b[0m \u001b[0;34m'List is soreted in ascending order'\u001b[0m\u001b[0;34m\u001b[0m\u001b[0;34m\u001b[0m\u001b[0m\n\u001b[1;32m      4\u001b[0m            \u001b[0;32melif\u001b[0m \u001b[0mlst\u001b[0m \u001b[0;34m==\u001b[0m \u001b[0msorted\u001b[0m\u001b[0;34m(\u001b[0m\u001b[0mlst\u001b[0m\u001b[0;34m,\u001b[0m\u001b[0mreverse\u001b[0m\u001b[0;34m=\u001b[0m\u001b[0;32mTrue\u001b[0m\u001b[0;34m)\u001b[0m\u001b[0;34m:\u001b[0m\u001b[0;34m\u001b[0m\u001b[0;34m\u001b[0m\u001b[0m\n\u001b[1;32m      5\u001b[0m              \u001b[0;32mreturn\u001b[0m \u001b[0;34m'List is soreted in descending order'\u001b[0m\u001b[0;34m\u001b[0m\u001b[0;34m\u001b[0m\u001b[0m\n",
            "\u001b[0;31mRecursionError\u001b[0m: maximum recursion depth exceeded"
          ]
        }
      ]
    },
    {
      "cell_type": "markdown",
      "source": [
        "### 17.  Write a code to merge two sorted lists into a single sorted list"
      ],
      "metadata": {
        "id": "bT5umsjKuL4i"
      }
    },
    {
      "cell_type": "code",
      "source": [
        "def mer_lst(lst1,lst2):\n",
        "  merged_list =[]\n",
        "  i,j=0,0\n",
        "  while i < len(lst1) and j < len(lst2):\n",
        "    if lst1[i] < lst2[j]:\n",
        "      merged_list.append(lst1[i])\n",
        "      i+=1\n",
        "    else:\n",
        "      merged_list.append(lst2[j])\n",
        "      j+=1\n",
        "    merged_list.extend(lst1[i:])\n",
        "    merged_list.extend(lst2[j:])\n",
        "  return merged_list\n",
        "lst1 = [1,3,5,7]\n",
        "lst2 = [2,4,6,8]\n",
        "mer_lst(lst1,lst2)\n",
        "\n"
      ],
      "metadata": {
        "colab": {
          "base_uri": "https://localhost:8080/"
        },
        "id": "q-7nHZqHuN72",
        "outputId": "4442a4d5-b60b-445d-c96a-cbec25aa9317"
      },
      "execution_count": 7,
      "outputs": [
        {
          "output_type": "execute_result",
          "data": {
            "text/plain": [
              "[1,\n",
              " 3,\n",
              " 5,\n",
              " 7,\n",
              " 2,\n",
              " 4,\n",
              " 6,\n",
              " 8,\n",
              " 2,\n",
              " 3,\n",
              " 5,\n",
              " 7,\n",
              " 4,\n",
              " 6,\n",
              " 8,\n",
              " 3,\n",
              " 5,\n",
              " 7,\n",
              " 4,\n",
              " 6,\n",
              " 8,\n",
              " 4,\n",
              " 5,\n",
              " 7,\n",
              " 6,\n",
              " 8,\n",
              " 5,\n",
              " 7,\n",
              " 6,\n",
              " 8,\n",
              " 6,\n",
              " 7,\n",
              " 8,\n",
              " 7,\n",
              " 8]"
            ]
          },
          "metadata": {},
          "execution_count": 7
        }
      ]
    },
    {
      "cell_type": "markdown",
      "source": [
        "### 18. Implement a code to find the intersection of two given lists"
      ],
      "metadata": {
        "id": "BQ-hObNTyClW"
      }
    },
    {
      "cell_type": "code",
      "source": [
        "def list_intersection(list1, list2):\n",
        "    set2 = set(list2)\n",
        "    return [item for item in list1 if item in set2]\n",
        "a = [1, 2, 3, 4, 5, 6]\n",
        "b = [4, 5, 6, 7, 8, 9]\n",
        "\n",
        "result = list_intersection(a, b)\n",
        "print(result)\n"
      ],
      "metadata": {
        "colab": {
          "base_uri": "https://localhost:8080/"
        },
        "id": "eeDViwV_yIcG",
        "outputId": "58a16d75-5400-465d-8f10-068b1fff0efd"
      },
      "execution_count": 8,
      "outputs": [
        {
          "output_type": "stream",
          "name": "stdout",
          "text": [
            "[4, 5, 6]\n"
          ]
        }
      ]
    },
    {
      "cell_type": "markdown",
      "source": [
        "### 19.  Create a code to find the union of two lists without duplicates"
      ],
      "metadata": {
        "id": "J2wd-9Ksydct"
      }
    },
    {
      "cell_type": "code",
      "source": [
        "def list_union(list1, list2):\n",
        "    seen = set()\n",
        "    result = []\n",
        "    for item in list1 + list2:\n",
        "        if item not in seen:\n",
        "            seen.add(item)\n",
        "            result.append(item)\n",
        "    return result\n",
        "a = [1, 2, 3, 4, 5]\n",
        "b = [4, 5, 6, 7, 8]\n",
        "\n",
        "print(list_union(a, b))\n"
      ],
      "metadata": {
        "colab": {
          "base_uri": "https://localhost:8080/"
        },
        "id": "Ocb_LtsIyhGG",
        "outputId": "f5aba43b-9470-4165-8fd7-2813a5d72caa"
      },
      "execution_count": 9,
      "outputs": [
        {
          "output_type": "stream",
          "name": "stdout",
          "text": [
            "[1, 2, 3, 4, 5, 6, 7, 8]\n"
          ]
        }
      ]
    },
    {
      "cell_type": "markdown",
      "source": [
        "### 20.  Write a code to shuffle a given list randomly without using any built-in shuffle functions"
      ],
      "metadata": {
        "id": "kbzKg7U4ynm2"
      }
    },
    {
      "cell_type": "code",
      "source": [
        "import random\n",
        "\n",
        "def manual_shuffle(lst):\n",
        "    n = len(lst)\n",
        "    for i in range(n - 1, 0, -1):\n",
        "        j = random.randint(0, i)  # Pick a random index from 0 to i\n",
        "        lst[i], lst[j] = lst[j], lst[i]  # Swap elements\n",
        "    return lst\n",
        "original = [1, 2, 3, 4, 5, 6]\n",
        "shuffled = manual_shuffle(original.copy())\n",
        "print(\"Shuffled List:\", shuffled)\n"
      ],
      "metadata": {
        "colab": {
          "base_uri": "https://localhost:8080/"
        },
        "id": "L-flrHyhyrii",
        "outputId": "eca80a3e-0369-4392-8348-125bd69d650d"
      },
      "execution_count": 10,
      "outputs": [
        {
          "output_type": "stream",
          "name": "stdout",
          "text": [
            "Shuffled List: [3, 2, 6, 1, 4, 5]\n"
          ]
        }
      ]
    },
    {
      "cell_type": "markdown",
      "source": [
        "### 21.  Write a code that takes two tuples as input and returns a new tuple containing elements that are common to both input tuples"
      ],
      "metadata": {
        "id": "aJtPKe3qyzVX"
      }
    },
    {
      "cell_type": "code",
      "source": [
        "def tuple_intersection(tup1, tup2):\n",
        "    set2 = set(tup2)\n",
        "    return tuple(item for item in tup1 if item in set2)\n",
        "a = (1, 2, 3, 4, 5)\n",
        "b = (4, 5, 6, 7)\n",
        "\n",
        "result = tuple_intersection(a, b)\n",
        "print(result)\n"
      ],
      "metadata": {
        "colab": {
          "base_uri": "https://localhost:8080/"
        },
        "id": "pxybrSkfy73U",
        "outputId": "86db199a-6f30-4f77-adcc-867e2d881edc"
      },
      "execution_count": 11,
      "outputs": [
        {
          "output_type": "stream",
          "name": "stdout",
          "text": [
            "(4, 5)\n"
          ]
        }
      ]
    },
    {
      "cell_type": "markdown",
      "source": [
        "### 22. Create a code that prompts the user to enter two sets of integers separated by commas. Then, print the intersection of these two sets"
      ],
      "metadata": {
        "id": "0FZ5AvRXzBcr"
      }
    },
    {
      "cell_type": "code",
      "source": [
        "def get_set_input(prompt):\n",
        "    raw_input = input(prompt)\n",
        "    return set(map(int, raw_input.split(',')))\n",
        "set1 = get_set_input(\"Enter the first set of integers : \")\n",
        "set2 = get_set_input(\"Enter the second set of integers : \")\n",
        "intersection = set1 & set2\n",
        "print(\"Intersection of the two sets:\", intersection)\n",
        "\n",
        "\n"
      ],
      "metadata": {
        "colab": {
          "base_uri": "https://localhost:8080/",
          "height": 371
        },
        "id": "bxNu49t3zOh-",
        "outputId": "4510bd34-c553-46d4-ecde-7f112fcc04a5"
      },
      "execution_count": 16,
      "outputs": [
        {
          "output_type": "error",
          "ename": "KeyboardInterrupt",
          "evalue": "Interrupted by user",
          "traceback": [
            "\u001b[0;31m---------------------------------------------------------------------------\u001b[0m",
            "\u001b[0;31mKeyboardInterrupt\u001b[0m                         Traceback (most recent call last)",
            "\u001b[0;32m/tmp/ipython-input-2949722399.py\u001b[0m in \u001b[0;36m<cell line: 0>\u001b[0;34m()\u001b[0m\n\u001b[1;32m      2\u001b[0m     \u001b[0mraw_input\u001b[0m \u001b[0;34m=\u001b[0m \u001b[0minput\u001b[0m\u001b[0;34m(\u001b[0m\u001b[0mprompt\u001b[0m\u001b[0;34m)\u001b[0m\u001b[0;34m\u001b[0m\u001b[0;34m\u001b[0m\u001b[0m\n\u001b[1;32m      3\u001b[0m     \u001b[0;32mreturn\u001b[0m \u001b[0mset\u001b[0m\u001b[0;34m(\u001b[0m\u001b[0mmap\u001b[0m\u001b[0;34m(\u001b[0m\u001b[0mint\u001b[0m\u001b[0;34m,\u001b[0m \u001b[0mraw_input\u001b[0m\u001b[0;34m.\u001b[0m\u001b[0msplit\u001b[0m\u001b[0;34m(\u001b[0m\u001b[0;34m','\u001b[0m\u001b[0;34m)\u001b[0m\u001b[0;34m)\u001b[0m\u001b[0;34m)\u001b[0m\u001b[0;34m\u001b[0m\u001b[0;34m\u001b[0m\u001b[0m\n\u001b[0;32m----> 4\u001b[0;31m \u001b[0mset1\u001b[0m \u001b[0;34m=\u001b[0m \u001b[0mget_set_input\u001b[0m\u001b[0;34m(\u001b[0m\u001b[0;34m\"Enter the first set of integers : \"\u001b[0m\u001b[0;34m)\u001b[0m\u001b[0;34m\u001b[0m\u001b[0;34m\u001b[0m\u001b[0m\n\u001b[0m\u001b[1;32m      5\u001b[0m \u001b[0mset2\u001b[0m \u001b[0;34m=\u001b[0m \u001b[0mget_set_input\u001b[0m\u001b[0;34m(\u001b[0m\u001b[0;34m\"Enter the second set of integers : \"\u001b[0m\u001b[0;34m)\u001b[0m\u001b[0;34m\u001b[0m\u001b[0;34m\u001b[0m\u001b[0m\n\u001b[1;32m      6\u001b[0m \u001b[0mintersection\u001b[0m \u001b[0;34m=\u001b[0m \u001b[0mset1\u001b[0m \u001b[0;34m&\u001b[0m \u001b[0mset2\u001b[0m\u001b[0;34m\u001b[0m\u001b[0;34m\u001b[0m\u001b[0m\n",
            "\u001b[0;32m/tmp/ipython-input-2949722399.py\u001b[0m in \u001b[0;36mget_set_input\u001b[0;34m(prompt)\u001b[0m\n\u001b[1;32m      1\u001b[0m \u001b[0;32mdef\u001b[0m \u001b[0mget_set_input\u001b[0m\u001b[0;34m(\u001b[0m\u001b[0mprompt\u001b[0m\u001b[0;34m)\u001b[0m\u001b[0;34m:\u001b[0m\u001b[0;34m\u001b[0m\u001b[0;34m\u001b[0m\u001b[0m\n\u001b[0;32m----> 2\u001b[0;31m     \u001b[0mraw_input\u001b[0m \u001b[0;34m=\u001b[0m \u001b[0minput\u001b[0m\u001b[0;34m(\u001b[0m\u001b[0mprompt\u001b[0m\u001b[0;34m)\u001b[0m\u001b[0;34m\u001b[0m\u001b[0;34m\u001b[0m\u001b[0m\n\u001b[0m\u001b[1;32m      3\u001b[0m     \u001b[0;32mreturn\u001b[0m \u001b[0mset\u001b[0m\u001b[0;34m(\u001b[0m\u001b[0mmap\u001b[0m\u001b[0;34m(\u001b[0m\u001b[0mint\u001b[0m\u001b[0;34m,\u001b[0m \u001b[0mraw_input\u001b[0m\u001b[0;34m.\u001b[0m\u001b[0msplit\u001b[0m\u001b[0;34m(\u001b[0m\u001b[0;34m','\u001b[0m\u001b[0;34m)\u001b[0m\u001b[0;34m)\u001b[0m\u001b[0;34m)\u001b[0m\u001b[0;34m\u001b[0m\u001b[0;34m\u001b[0m\u001b[0m\n\u001b[1;32m      4\u001b[0m \u001b[0mset1\u001b[0m \u001b[0;34m=\u001b[0m \u001b[0mget_set_input\u001b[0m\u001b[0;34m(\u001b[0m\u001b[0;34m\"Enter the first set of integers : \"\u001b[0m\u001b[0;34m)\u001b[0m\u001b[0;34m\u001b[0m\u001b[0;34m\u001b[0m\u001b[0m\n\u001b[1;32m      5\u001b[0m \u001b[0mset2\u001b[0m \u001b[0;34m=\u001b[0m \u001b[0mget_set_input\u001b[0m\u001b[0;34m(\u001b[0m\u001b[0;34m\"Enter the second set of integers : \"\u001b[0m\u001b[0;34m)\u001b[0m\u001b[0;34m\u001b[0m\u001b[0;34m\u001b[0m\u001b[0m\n",
            "\u001b[0;32m/usr/local/lib/python3.12/dist-packages/ipykernel/kernelbase.py\u001b[0m in \u001b[0;36mraw_input\u001b[0;34m(self, prompt)\u001b[0m\n\u001b[1;32m   1175\u001b[0m                 \u001b[0;34m\"raw_input was called, but this frontend does not support input requests.\"\u001b[0m\u001b[0;34m\u001b[0m\u001b[0;34m\u001b[0m\u001b[0m\n\u001b[1;32m   1176\u001b[0m             )\n\u001b[0;32m-> 1177\u001b[0;31m         return self._input_request(\n\u001b[0m\u001b[1;32m   1178\u001b[0m             \u001b[0mstr\u001b[0m\u001b[0;34m(\u001b[0m\u001b[0mprompt\u001b[0m\u001b[0;34m)\u001b[0m\u001b[0;34m,\u001b[0m\u001b[0;34m\u001b[0m\u001b[0;34m\u001b[0m\u001b[0m\n\u001b[1;32m   1179\u001b[0m             \u001b[0mself\u001b[0m\u001b[0;34m.\u001b[0m\u001b[0m_parent_ident\u001b[0m\u001b[0;34m[\u001b[0m\u001b[0;34m\"shell\"\u001b[0m\u001b[0;34m]\u001b[0m\u001b[0;34m,\u001b[0m\u001b[0;34m\u001b[0m\u001b[0;34m\u001b[0m\u001b[0m\n",
            "\u001b[0;32m/usr/local/lib/python3.12/dist-packages/ipykernel/kernelbase.py\u001b[0m in \u001b[0;36m_input_request\u001b[0;34m(self, prompt, ident, parent, password)\u001b[0m\n\u001b[1;32m   1217\u001b[0m             \u001b[0;32mexcept\u001b[0m \u001b[0mKeyboardInterrupt\u001b[0m\u001b[0;34m:\u001b[0m\u001b[0;34m\u001b[0m\u001b[0;34m\u001b[0m\u001b[0m\n\u001b[1;32m   1218\u001b[0m                 \u001b[0;31m# re-raise KeyboardInterrupt, to truncate traceback\u001b[0m\u001b[0;34m\u001b[0m\u001b[0;34m\u001b[0m\u001b[0m\n\u001b[0;32m-> 1219\u001b[0;31m                 \u001b[0;32mraise\u001b[0m \u001b[0mKeyboardInterrupt\u001b[0m\u001b[0;34m(\u001b[0m\u001b[0;34m\"Interrupted by user\"\u001b[0m\u001b[0;34m)\u001b[0m \u001b[0;32mfrom\u001b[0m \u001b[0;32mNone\u001b[0m\u001b[0;34m\u001b[0m\u001b[0;34m\u001b[0m\u001b[0m\n\u001b[0m\u001b[1;32m   1220\u001b[0m             \u001b[0;32mexcept\u001b[0m \u001b[0mException\u001b[0m\u001b[0;34m:\u001b[0m\u001b[0;34m\u001b[0m\u001b[0;34m\u001b[0m\u001b[0m\n\u001b[1;32m   1221\u001b[0m                 \u001b[0mself\u001b[0m\u001b[0;34m.\u001b[0m\u001b[0mlog\u001b[0m\u001b[0;34m.\u001b[0m\u001b[0mwarning\u001b[0m\u001b[0;34m(\u001b[0m\u001b[0;34m\"Invalid Message:\"\u001b[0m\u001b[0;34m,\u001b[0m \u001b[0mexc_info\u001b[0m\u001b[0;34m=\u001b[0m\u001b[0;32mTrue\u001b[0m\u001b[0;34m)\u001b[0m\u001b[0;34m\u001b[0m\u001b[0;34m\u001b[0m\u001b[0m\n",
            "\u001b[0;31mKeyboardInterrupt\u001b[0m: Interrupted by user"
          ]
        }
      ]
    },
    {
      "cell_type": "markdown",
      "source": [
        "### 23. Write a code to concatenate two tuples. The function should take two tuples as input and return a new tuple containing elements from both input tuples."
      ],
      "metadata": {
        "id": "KzsqccAxztoP"
      }
    },
    {
      "cell_type": "code",
      "source": [
        "def concatenate_tuples(tup1, tup2):\n",
        "    return tup1 + tup2\n",
        "a = (1, 2, 3)\n",
        "b = (4, 5, 6)\n",
        "\n",
        "result = concatenate_tuples(a, b)\n",
        "print(result)\n"
      ],
      "metadata": {
        "colab": {
          "base_uri": "https://localhost:8080/"
        },
        "id": "UyNV-oa-zy_X",
        "outputId": "207e8109-080a-472c-9585-feb80ccc96e4"
      },
      "execution_count": 14,
      "outputs": [
        {
          "output_type": "stream",
          "name": "stdout",
          "text": [
            "(1, 2, 3, 4, 5, 6)\n"
          ]
        }
      ]
    },
    {
      "cell_type": "markdown",
      "source": [
        "### 24. Develop a code that prompts the user to input two sets of strings. Then, print the elements that are present in the first set but not in the second set"
      ],
      "metadata": {
        "id": "DpZeAlYbz5MG"
      }
    },
    {
      "cell_type": "code",
      "source": [
        "def get_string_set(prompt):\n",
        "    raw_input = input(prompt)\n",
        "    return set(map(str.strip, raw_input.split(',')))\n",
        "\n",
        "set1 = get_string_set(\"Enter the first set of strings : \")\n",
        "set2 = get_string_set(\"Enter the second set of strings : \")\n",
        "\n",
        "difference = set1 - set2\n",
        "\n",
        "print(\"Elements in the first set but not in the second set:\", difference)\n"
      ],
      "metadata": {
        "colab": {
          "base_uri": "https://localhost:8080/"
        },
        "id": "QkMbn-_sz_Tj",
        "outputId": "8d64495d-7e24-413e-9596-2ed15a375ab7"
      },
      "execution_count": 15,
      "outputs": [
        {
          "output_type": "stream",
          "name": "stdout",
          "text": [
            "Enter the first set of strings (comma-separated): apple,kiwi,mango,cherry\n",
            "Enter the second set of strings (comma-separated): mango,cherry\n",
            "Elements in the first set but not in the second set: {'apple', 'kiwi'}\n"
          ]
        }
      ]
    },
    {
      "cell_type": "markdown",
      "source": [
        "### 25.  Create a code that takes a tuple and two integers as input. The function should return a new tuple containing elements from the original tuple within the specified range of indices"
      ],
      "metadata": {
        "id": "8L0xY2I20dhQ"
      }
    },
    {
      "cell_type": "code",
      "source": [
        "def slice_tuple(tup, start, end):\n",
        "    return tup[start:end]\n",
        "original = (10, 20, 30, 40, 50, 60, 70)\n",
        "start_index = 2\n",
        "end_index = 5\n",
        "\n",
        "result = slice_tuple(original, start_index, end_index)\n",
        "print(result)\n"
      ],
      "metadata": {
        "colab": {
          "base_uri": "https://localhost:8080/"
        },
        "id": "pYqA0_KR0i14",
        "outputId": "9182323f-2593-4f5b-ee51-e92183d64cb3"
      },
      "execution_count": 17,
      "outputs": [
        {
          "output_type": "stream",
          "name": "stdout",
          "text": [
            "(30, 40, 50)\n"
          ]
        }
      ]
    },
    {
      "cell_type": "markdown",
      "source": [
        "### 26. Write a code that prompts the user to input two sets of characters. Then, print the union of these two sets"
      ],
      "metadata": {
        "id": "-sHpeccQ0pgA"
      }
    },
    {
      "cell_type": "code",
      "source": [
        "def get_char_set(prompt):\n",
        "    raw_input = input(prompt)\n",
        "    return set(map(str.strip, raw_input.split(',')))\n",
        "\n",
        "set1 = get_char_set(\"Enter the first set of characters : \")\n",
        "set2 = get_char_set(\"Enter the second set of characters : \")\n",
        "\n",
        "union_set = set1 | set2\n",
        "\n",
        "print(\"Union of the two sets:\", union_set)\n"
      ],
      "metadata": {
        "colab": {
          "base_uri": "https://localhost:8080/"
        },
        "id": "s8dhJeM50tv6",
        "outputId": "f223dbdb-898b-41ae-f7c4-3272d2818604"
      },
      "execution_count": 18,
      "outputs": [
        {
          "output_type": "stream",
          "name": "stdout",
          "text": [
            "Enter the first set of characters : a,b,c,d\n",
            "Enter the second set of characters : c,d,e,f\n",
            "Union of the two sets: {'d', 'b', 'e', 'a', 'f', 'c'}\n"
          ]
        }
      ]
    },
    {
      "cell_type": "markdown",
      "source": [
        "### 27.  Develop a code that takes a tuple of integers as input. The function should return the maximum and minimum values from the tuple using tuple unpacking"
      ],
      "metadata": {
        "id": "ula4wxER1GJA"
      }
    },
    {
      "cell_type": "code",
      "source": [
        "def min_max_unpack(tup):\n",
        "    max_val, min_val = max(tup), min(tup)\n",
        "    return max_val, min_val\n",
        "numbers = (12, 45, 7, 89, 23, 5)\n",
        "maximum, minimum = min_max_unpack(numbers)\n",
        "\n",
        "print(\"Maximum:\", maximum)\n",
        "print(\"Minimum:\", minimum)\n"
      ],
      "metadata": {
        "colab": {
          "base_uri": "https://localhost:8080/"
        },
        "id": "BKuDrefb1LIy",
        "outputId": "a48c72cf-6333-43e3-d46c-404bff89ee9d"
      },
      "execution_count": 19,
      "outputs": [
        {
          "output_type": "stream",
          "name": "stdout",
          "text": [
            "Maximum: 89\n",
            "Minimum: 5\n"
          ]
        }
      ]
    },
    {
      "cell_type": "markdown",
      "source": [
        "### 28. Create a code that defines two sets of integers. Then, print the union, intersection, and difference of these two sets"
      ],
      "metadata": {
        "id": "Mhe8kCXY3Z8s"
      }
    },
    {
      "cell_type": "code",
      "source": [
        "set1 = {1, 2, 3, 4, 5}\n",
        "set2 = {4, 5, 6, 7, 8}\n",
        "\n",
        "union_result = set1 | set2\n",
        "\n",
        "intersection_result = set1 & set2\n",
        "\n",
        "difference_result = set1 - set2\n",
        "\n",
        "print(\"Union:\", union_result)\n",
        "print(\"Intersection:\", intersection_result)\n",
        "print(\"Difference (set1 - set2):\", difference_result)\n"
      ],
      "metadata": {
        "colab": {
          "base_uri": "https://localhost:8080/"
        },
        "id": "5-wEc69N3jFg",
        "outputId": "ef7f428b-a45b-4a5d-c13d-e120d21db1c5"
      },
      "execution_count": 20,
      "outputs": [
        {
          "output_type": "stream",
          "name": "stdout",
          "text": [
            "Union: {1, 2, 3, 4, 5, 6, 7, 8}\n",
            "Intersection: {4, 5}\n",
            "Difference (set1 - set2): {1, 2, 3}\n"
          ]
        }
      ]
    },
    {
      "cell_type": "markdown",
      "source": [
        "### 29. Write a code that takes a tuple and an element as input. The function should return the count of occurrences of the given element in the tuple"
      ],
      "metadata": {
        "id": "HAwTVkYn3yX0"
      }
    },
    {
      "cell_type": "code",
      "source": [
        "def count_occurrences(tup, element):\n",
        "    return tup.count(element)\n",
        "numbers = (1, 2, 3, 2, 4, 2, 5)\n",
        "target = 2\n",
        "\n",
        "result = count_occurrences(numbers, target)\n",
        "print(f\"The element {target} appears {result} times in the tuple.\")\n"
      ],
      "metadata": {
        "colab": {
          "base_uri": "https://localhost:8080/"
        },
        "id": "06IqzH464Aml",
        "outputId": "760f908f-ba8e-4703-8b52-74a1580636d4"
      },
      "execution_count": 21,
      "outputs": [
        {
          "output_type": "stream",
          "name": "stdout",
          "text": [
            "The element 2 appears 3 times in the tuple.\n"
          ]
        }
      ]
    },
    {
      "cell_type": "markdown",
      "source": [
        "### 30.Develop a code that prompts the user to input two sets of strings. Then, print the symmetric difference of these two sets"
      ],
      "metadata": {
        "id": "yZgJavaD4Ijv"
      }
    },
    {
      "cell_type": "code",
      "source": [
        "def get_string_set(prompt):\n",
        "    raw_input = input(prompt)\n",
        "    return set(map(str.strip, raw_input.split(',')))\n",
        "\n",
        "set1 = get_string_set(\"Enter the first set of strings : \")\n",
        "set2 = get_string_set(\"Enter the second set of strings : \")\n",
        "\n",
        "symmetric_diff = set1 ^ set2\n",
        "\n",
        "print(\"Symmetric difference of the two sets:\", symmetric_diff)\n"
      ],
      "metadata": {
        "colab": {
          "base_uri": "https://localhost:8080/"
        },
        "id": "jWEsMb-_4Pqt",
        "outputId": "e960632e-0571-462a-c451-5775c22e3771"
      },
      "execution_count": 22,
      "outputs": [
        {
          "output_type": "stream",
          "name": "stdout",
          "text": [
            "Enter the first set of strings : Apple,babana,orange\n",
            "Enter the second set of strings : apple,orange\n",
            "Symmetric difference of the two sets: {'apple', 'babana', 'Apple'}\n"
          ]
        }
      ]
    },
    {
      "cell_type": "markdown",
      "source": [
        "### 31.Write a code that takes a list of words as input and returns a dictionary where the keys are unique words and the values are the frequencies of those words in the input list"
      ],
      "metadata": {
        "id": "nqni9I6H5MbH"
      }
    },
    {
      "cell_type": "code",
      "source": [
        "def word_frequency(words):\n",
        "    freq_dict = {}\n",
        "    for word in words:\n",
        "        word = word.strip().lower()\n",
        "        freq_dict[word] = freq_dict.get(word, 0) + 1\n",
        "    return freq_dict\n",
        "word_list = ['apple', 'banana', 'Apple', 'orange', 'banana', 'apple']\n",
        "result = word_frequency(word_list)\n",
        "print(result)\n"
      ],
      "metadata": {
        "colab": {
          "base_uri": "https://localhost:8080/"
        },
        "id": "N6Z64yp25w4x",
        "outputId": "d10092af-ca1e-47f7-8965-54d35ffb2024"
      },
      "execution_count": 23,
      "outputs": [
        {
          "output_type": "stream",
          "name": "stdout",
          "text": [
            "{'apple': 3, 'banana': 2, 'orange': 1}\n"
          ]
        }
      ]
    },
    {
      "cell_type": "markdown",
      "source": [
        "### 32. Write a code that takes two dictionaries as input and merges them into a single dictionary. If there are common keys, the values should be added together"
      ],
      "metadata": {
        "id": "H64rubvG52zI"
      }
    },
    {
      "cell_type": "code",
      "source": [
        "def merge_dicts(dict1, dict2):\n",
        "    merged = dict1.copy()  # Start with a copy of the first dictionary\n",
        "    for key, value in dict2.items():\n",
        "        merged[key] = merged.get(key, 0) + value\n",
        "    return merged\n",
        "d1 = {'apple': 3, 'banana': 2, 'orange': 1}\n",
        "d2 = {'banana': 4, 'orange': 2, 'grape': 5}\n",
        "\n",
        "result = merge_dicts(d1, d2)\n",
        "print(result)\n"
      ],
      "metadata": {
        "colab": {
          "base_uri": "https://localhost:8080/"
        },
        "id": "NgHrR-oV58oL",
        "outputId": "175f5f66-0960-4348-c90f-80b431f19d5c"
      },
      "execution_count": 24,
      "outputs": [
        {
          "output_type": "stream",
          "name": "stdout",
          "text": [
            "{'apple': 3, 'banana': 6, 'orange': 3, 'grape': 5}\n"
          ]
        }
      ]
    },
    {
      "cell_type": "markdown",
      "source": [
        "### 33.  Write a code to access a value in a nested dictionary. The function should take the dictionary and a list of keys as input, and return the corresponding value. If any of the keys do not exist in the dictionary, the function should return None"
      ],
      "metadata": {
        "id": "MghlbqDQ6ErM"
      }
    },
    {
      "cell_type": "code",
      "source": [
        "def get_nested_value(data, keys):\n",
        "    current = data\n",
        "    for key in keys:\n",
        "        if isinstance(current, dict) and key in current:\n",
        "            current = current[key]\n",
        "        else:\n",
        "            return None\n",
        "    return current\n",
        "nested_dict = {\n",
        "    'user': {\n",
        "        'profile': {\n",
        "            'name': 'Siddhant',\n",
        "            'skills': ['Python', 'SQL']\n",
        "        }\n",
        "    }\n",
        "}\n",
        "\n",
        "\n",
        "print(get_nested_value(nested_dict, ['user', 'profile', 'name']))\n",
        "\n",
        "\n",
        "print(get_nested_value(nested_dict, ['user', 'profile', 'age']))\n"
      ],
      "metadata": {
        "colab": {
          "base_uri": "https://localhost:8080/"
        },
        "id": "0s8huCtp6Jq_",
        "outputId": "aed43cf5-f12f-4cb3-b510-89c767472f13"
      },
      "execution_count": 25,
      "outputs": [
        {
          "output_type": "stream",
          "name": "stdout",
          "text": [
            "Siddhant\n",
            "None\n"
          ]
        }
      ]
    },
    {
      "cell_type": "markdown",
      "source": [
        "### 34. Write a code that takes a dictionary as input and returns a sorted version of it based on the values. You can choose whether to sort in ascending or descending order"
      ],
      "metadata": {
        "id": "lPea9lgv6Z9W"
      }
    },
    {
      "cell_type": "code",
      "source": [
        "def sort_dict_by_values(input_dict, descending=False):\n",
        "    try:\n",
        "        return dict(sorted(input_dict.items(), key=lambda item: item[1], reverse=descending))\n",
        "    except TypeError as e:\n",
        "        print(\"Sorting failed due to incompatible value types:\", e)\n",
        "        return None\n",
        "data = {'apple': 'c', 'banana': 'a', 'orange': 'b'}\n",
        "print(\"Ascending:\", sort_dict_by_values(data))\n"
      ],
      "metadata": {
        "colab": {
          "base_uri": "https://localhost:8080/"
        },
        "id": "eVDS9ddR7OZO",
        "outputId": "db6f15b6-b7b8-4c63-ac7c-967888e46eb5"
      },
      "execution_count": 31,
      "outputs": [
        {
          "output_type": "stream",
          "name": "stdout",
          "text": [
            "Sorting failed due to incompatible value types: sorted() got an unexpected keyword argument 'key'\n",
            "Ascending: None\n"
          ]
        }
      ]
    },
    {
      "cell_type": "markdown",
      "source": [
        "### 35.  Write a code that inverts a dictionary, swapping keys and values. Ensure that the inverted dictionary correctly handles cases where multiple keys have the same value by storing the keys as a list in the inverted dictionary."
      ],
      "metadata": {
        "id": "Wra5jQVd7WQb"
      }
    },
    {
      "cell_type": "code",
      "source": [
        "def invert_dict(original_dict):\n",
        "    inverted = {}\n",
        "    for key, value in original_dict.items():\n",
        "        if value in inverted:\n",
        "            inverted[value].append(key)\n",
        "        else:\n",
        "            inverted[value] = [key]\n",
        "    return inverted\n",
        "data = {\n",
        "    'apple': 1,\n",
        "    'banana': 2,\n",
        "    'cherry': 1,\n",
        "    'date': 3,\n",
        "    'elderberry': 2\n",
        "}\n",
        "\n",
        "result = invert_dict(data)\n",
        "print(result)\n"
      ],
      "metadata": {
        "colab": {
          "base_uri": "https://localhost:8080/"
        },
        "id": "rmakmGvu7enQ",
        "outputId": "fd261bc3-2157-4d5c-fd6c-1eba8eb6bace"
      },
      "execution_count": 32,
      "outputs": [
        {
          "output_type": "stream",
          "name": "stdout",
          "text": [
            "{1: ['apple', 'cherry'], 2: ['banana', 'elderberry'], 3: ['date']}\n"
          ]
        }
      ]
    }
  ]
}